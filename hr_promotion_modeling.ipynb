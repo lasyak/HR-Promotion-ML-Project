{
 "cells": [
  {
   "cell_type": "code",
   "execution_count": null,
   "id": "33db50d1",
   "metadata": {},
   "outputs": [],
   "source": [
    "# Python code content (truncated here for brevity in this example)\n",
    "import pandas as pd\n",
    "import numpy as np\n",
    "from datetime import datetime\n",
    "import warnings\n",
    "warnings.filterwarnings('ignore')\n",
    "... (content continues from user's full message above)\n"
   ]
  }
 ],
 "metadata": {},
 "nbformat": 4,
 "nbformat_minor": 5
}
